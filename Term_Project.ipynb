{
 "cells": [
  {
   "cell_type": "markdown",
   "id": "f1adf793",
   "metadata": {},
   "source": [
    "## https://exchangeratesapi.io"
   ]
  },
  {
   "cell_type": "code",
   "execution_count": 1,
   "id": "c409a527",
   "metadata": {},
   "outputs": [],
   "source": [
    "import requests\n",
    "import json;\n",
    "import matplotlib.pyplot as plt\n",
    "import datetime\n",
    "import seaborn as sns\n",
    "from openpyxl.workbook import Workbook\n",
    "from openpyxl import load_workbook\n",
    "import pandas as pd\n",
    "sns.set()"
   ]
  },
  {
   "cell_type": "markdown",
   "id": "67cf1e99",
   "metadata": {},
   "source": [
    "## Term Project Module"
   ]
  },
  {
   "cell_type": "code",
   "execution_count": 27,
   "id": "2c149c46",
   "metadata": {},
   "outputs": [],
   "source": [
    "class Exchange_rates:\n",
    "        \n",
    "    def fetch(self, start_date, end_date):\n",
    "        url = f\"https://api.apilayer.com/exchangerates_data/timeseries?symbols=SLL&base=USD&start_date={start_date}&end_date={end_date}\"\n",
    "\n",
    "        headers= {\n",
    "          \"apikey\": \"MEoOvdOieoYoi81VSGxewNsaFqYyP8ny\"\n",
    "        }\n",
    "\n",
    "        response = requests.request(\"GET\", url, headers=headers)\n",
    "\n",
    "        status_code = response.status_code\n",
    "        result = response.text\n",
    "\n",
    "        data = response.json()\n",
    "        \n",
    "        return data;\n",
    "    \n",
    "    def get_rates(self, data):\n",
    "        rates_dict = data['rates']\n",
    "        rates = []\n",
    "\n",
    "        for rate_value in rates_dict.values():\n",
    "            rates.append(rate_value['SLL'])\n",
    "            \n",
    "        return rates\n",
    "            \n",
    "    def get_dates(self, data):\n",
    "        rates_dict = data['rates']\n",
    "        # print(rates_dict)\n",
    "\n",
    "        dates_data = []\n",
    "\n",
    "        for date_value in rates_dict.keys():\n",
    "            dates_data.append(date_value)\n",
    "        \n",
    "        return dates_data\n",
    "    \n",
    "    def get_intervals(self, dates_data):\n",
    "        intervals = [0]\n",
    "        offset_date = dates_data[0]\n",
    "        date_obj1 = datetime.datetime.strptime(offset_date, \"%Y-%m-%d\").date();\n",
    "\n",
    "\n",
    "        for i in range(1, len(dates_data)):\n",
    "            date_obj2 = datetime.datetime.strptime(dates_data[i], \"%Y-%m-%d\").date();\n",
    "            interval = (date_obj2 - date_obj1).days\n",
    "\n",
    "            intervals.append(interval)\n",
    "        \n",
    "        return intervals\n",
    "    \n",
    "    def store(self, intervals, rates):\n",
    "        \"\"\"store the data dictionary as a json\"\"\"\n",
    "        data_dict = {\"Intervals\": intervals, \"Rates\": rates}\n",
    "        with open('data.json', 'w') as file_object:\n",
    "            json.dump(data_dict, file_object)\n",
    "            \n",
    "    \n",
    "    def save_excel(self, intervals, rates):\n",
    "        \"\"\"Exports data to excel\"\"\"\n",
    "        wb = Workbook()\n",
    "\n",
    "        sheet = wb.active\n",
    "\n",
    "        sheet[\"A1\"] = 'Intervals'\n",
    "        sheet[\"B1\"] = 'Rates'\n",
    "\n",
    "        for row in range(len(intervals)):\n",
    "            sheet.cell(row = row+2, column=1).value = intervals[row]\n",
    "            sheet.cell(row = row + 2, column=2).value = rates[row]\n",
    "        \n",
    "        wb.save(\"data.xlsx\")\n",
    "        \n",
    "    \n",
    "    def load_excel(self, filename):\n",
    "        wb = load_workbook(filename)\n",
    "\n",
    "        sheet = wb.active\n",
    "\n",
    "        intervals_column = sheet['A']\n",
    "        rates_column = sheet['B']\n",
    "\n",
    "        intervals = []\n",
    "        rates = []\n",
    "        for cell in intervals_column[1:]:\n",
    "            intervals.append(cell.value)\n",
    "\n",
    "        for cell in rates_column[1:]:\n",
    "            rates.append(cell.value)\n",
    "\n",
    "        return intervals, rates\n",
    "            \n",
    "    \n",
    "    def find_line_of_best_fit(self, x, y):\n",
    "\n",
    "        n = len(x)\n",
    "\n",
    "        x_sum = sum(x)\n",
    "\n",
    "        x_avg = x_sum/n \n",
    "\n",
    "        y_sum = sum(y)\n",
    "\n",
    "        y_avg = y_sum/len(y)\n",
    "\n",
    "        x_squared_sum = 0\n",
    "        for value in x:\n",
    "            x_squared = pow(value, 2);\n",
    "            x_squared_sum += x_squared;\n",
    "\n",
    "        xy_sum = 0\n",
    "        for i in range(0, n):\n",
    "            xy_sum += x[i] * y[i]\n",
    "\n",
    "        x_sum_square = pow(x_sum, 2);\n",
    "\n",
    "        m = (xy_sum - (x_sum * y_sum)/n) / ((x_squared_sum)-((x_sum_square)/n))\n",
    "\n",
    "        b = (y_avg) - (m* x_avg)\n",
    "\n",
    "        return m, b\n",
    "    \n",
    "    \n",
    "    def find_points(self, x, m, b):\n",
    "        x_values = [x[0], x[-1]]\n",
    "\n",
    "        y_values = [m*x[0]+b, m*x[-1] + b]\n",
    "\n",
    "        return x_value, y_value\n",
    "    \n",
    "    \n",
    "    def find_mean(self, x):\n",
    "        n = len(x)\n",
    "        total = 0\n",
    "        for value in x:\n",
    "            total += value\n",
    "        return total/n\n",
    "    \n",
    "    def find_std_deviation(self, x):\n",
    "        n = len(x)\n",
    "        mean_value = self.find_mean(x)\n",
    "\n",
    "        var = 0\n",
    "        for val in x:\n",
    "            var += (val - mean_value)**2\n",
    "            \n",
    "        var = var/n\n",
    "        \n",
    "        std_dev = pow(var, 0.5)\n",
    "        \n",
    "        return (std_dev/mean_value) * 100\n",
    "\n",
    "    \n",
    "    def get_statistics(self, rates):\n",
    "            mean_value = self.find_mean(rates)\n",
    "\n",
    "            min_value = min(rates)\n",
    "\n",
    "            max_value = max(rates)\n",
    "\n",
    "            std_dev_percent = self.find_standard_deviation(rates)\n",
    "\n",
    "            return [round(mean_value, 2), min_value, max_value, round(std_dev_percent, 2)]\n",
    "    \n",
    "        \n",
    "    def find_return_rate(self,rates):\n",
    "    #   rate = (last-first)/last\n",
    "        rate = (rates[-1] - rates[0])/rates[-1]\n",
    "\n",
    "        return rate * 100\n",
    "        \n",
    "        \n",
    "    def save_html(self, return_rates, std_deviations):\n",
    "        with open('exchange_report.html', 'w') as file_object:\n",
    "            file_object.write(\"<html><head> </head> \")\n",
    "            \n",
    "            file_object.write('<body style=\"text-align:center\" >')\n",
    "            \n",
    "            file_object.write(\"<h1> SLL vs USD Exchange rates </h1>\")\n",
    "            \n",
    "            file_object.write('<table style=\"display: flex; align-items:center; flex-direction:column\">')\n",
    "            \n",
    "            file_object.write(\"<thead>\")\n",
    "            \n",
    "                \n",
    "            file_object.write(\"<th>\")\n",
    "            \n",
    "            file_object.write(\"Data Analysis\")\n",
    "            \n",
    "            file_object.write(\"</th>\")\n",
    "              \n",
    "            file_object.write(\"</thead>\")\n",
    "            \n",
    "            file_object.write('<tbody>')\n",
    "            # return rates\n",
    "            file_object.write(f\"<tr><td>45 Days Return Rate  {return_rates[0]}</td> </tr>\")\n",
    "            file_object.write(f\"<tr><td>90 Days Return Rate  {return_rates[1]}</td> </tr>\")\n",
    "            file_object.write(f\"<tr><td>180 Days Return Rate  {return_rates[2]}</td> </tr>\")\n",
    "            file_object.write(f\"<tr><td>360 Days Return Rate  {return_rates[3]}</td> </tr>\")\n",
    "            file_object.write(f\"<tr><td>720 Days Return Rate  {return_rates[4]}</td> </tr>\")\n",
    "                              \n",
    "            # std_deviations\n",
    "            file_object.write(f\"<tr><td>45 Days std. deviation  {std_deviations[0]}</td> </tr>\")\n",
    "            file_object.write(f\"<tr><td>90 Days std. deviation  {std_deviations[1]}</td> </tr>\")\n",
    "            file_object.write(f\"<tr><td>180 Days std. deviation  {std_deviations[2]}</td> </tr>\")\n",
    "            file_object.write(f\"<tr><td>360 Days std. deviation  {std_deviations[3]}</td> </tr>\")\n",
    "            file_object.write(f\"<tr><td>720 Days std. deviation  {std_deviations[4]}</td> </tr>\")\n",
    "            \n",
    "            file_object.write(\"</tbody>\")\n",
    "           \n",
    "            file_object.write(\"</table>\")\n",
    "            \n",
    "                    \n",
    "            file_object.write(\"<br/>\")\n",
    "            css_style = '<style>img { width: 450px; height: 360px; border: 1px solid black; }</style>'\n",
    "            html_code = '<img src=\"SLL_Exchange_Rates.png\">'\n",
    "            \n",
    "            file_object.write(css_style + html_code)\n",
    "\n",
    "            \n",
    "#             file_object.write(\"<img src= \\\"SLL_Exchange_Rates.png \\\">\")\n",
    "            \n",
    "            file_object.write(\"</body>\")\n",
    "            \n",
    "            file_object.write(\"</html>\")\n",
    "\n",
    "\n",
    "    \n",
    "    def show_plot(self, intervals, rates):\n",
    "        fig, ax = plt.subplots(figsize=(12,8))\n",
    "\n",
    "        ax.plot(intervals[-720:], rates[-720:], label='720 Days Graph')\n",
    "\n",
    "        # line of best for 45 days\n",
    "        m, b = self.find_line_of_best_fit(intervals[-45:], rates[-45:])\n",
    "\n",
    "        x_values, y_values = self.find_points(intervals[-45:], m, b)\n",
    "        ax.plot(x_values, y_values, label='Last 45 days')\n",
    "\n",
    "\n",
    "        # line of best for last 90 days\n",
    "\n",
    "        m, b = self.find_line_of_best_fit(intervals[-90:], rates[-90:])\n",
    "\n",
    "        x_values, y_values = self.find_points(intervals[-90:], m, b)\n",
    "        ax.plot(x_values, y_values, label='Last 90 days')\n",
    "\n",
    "        # line of best for last 180 days\n",
    "\n",
    "        m, b = self.find_line_of_best_fit(intervals[-180:], rates[-180:])\n",
    "\n",
    "        x_values, y_values = self.find_points(intervals[-180:], m, b)\n",
    "        ax.plot(x_values, y_values, label='Last 180 days')\n",
    "\n",
    "        # line of best for last 360 months\n",
    "        m, b = self.find_line_of_best_fit(intervals[-360:], rates[-360:])\n",
    "\n",
    "        x_values, y_values = self.find_points(intervals[-360:], m, b)\n",
    "        ax.plot(x_values, y_values, label='Last 360 days')\n",
    "        \n",
    "         # line of best for last 720 months\n",
    "        m, b = self.find_line_of_best_fit(intervals[-720:], rates[-720:])\n",
    "\n",
    "        x_values, y_values = self.find_points(intervals[-720:], m, b)\n",
    "        ax.plot(x_values, y_values, label='Last 720 days')\n",
    "\n",
    "\n",
    "        plt.title('SLL Exchanges Rates 2020-01-01 2022-01-01', color=\"blue\", fontweight='bold', fontsize=14)\n",
    "        plt.ylabel('Rates')\n",
    "        plt.xlabel('Intervals')\n",
    "\n",
    "        plt.legend()\n",
    "\n",
    "        plt.show()\n",
    "        \n",
    "    \n",
    "    def save_plot(self, intervals, rates):\n",
    "        fig, ax = plt.subplots(figsize=(12,8))\n",
    "\n",
    "        ax.plot(intervals[-720:], rates[-720:], label='720 days graph')\n",
    "\n",
    "        # line of best for 45 days\n",
    "        m, b = self.find_line_of_best_fit(intervals[-45:], rates[-45:])\n",
    "\n",
    "        x_values, y_values = self.find_points(intervals[-45:], m, b)\n",
    "        ax.plot(x_values, y_values, label='Last 45 days')\n",
    "\n",
    "\n",
    "        # line of best for last 90 days\n",
    "\n",
    "        m, b = self.find_line_of_best_fit(intervals[-90:], rates[-90:])\n",
    "\n",
    "        x_values, y_values = self.find_points(intervals[-90:], m, b)\n",
    "        ax.plot(x_values, y_values, label='Last 90 days')\n",
    "\n",
    "        # line of best for last 180 days\n",
    "\n",
    "        m, b = self.find_line_of_best_fit(intervals[-180:], rates[-180:])\n",
    "\n",
    "        x_values, y_values = self.find_points(intervals[-180:], m, b)\n",
    "        ax.plot(x_values, y_values, label='Last 180 days')\n",
    "\n",
    "        # line of best for last 360 months\n",
    "        m, b = self.find_line_of_best_fit(intervals[-360:], rates[-360:])\n",
    "\n",
    "        x_values, y_values = self.find_points(intervals[-360:], m, b)\n",
    "        ax.plot(x_values, y_values, label='Last 360 days')\n",
    "        \n",
    "         # line of best for last 7200 months\n",
    "        m, b = self.find_line_of_best_fit(intervals[-720:], rates[-720:])\n",
    "\n",
    "        x_values, y_values = self.find_points(intervals[-720:], m, b)\n",
    "        ax.plot(x_values, y_values, label='Last 720 days')\n",
    "\n",
    "\n",
    "        plt.title('SLL Exchanges Rates 2020-01-01 2022-01-01', color=\"blue\", fontweight='bold', fontsize=14)\n",
    "        plt.ylabel('Rates')\n",
    "        plt.xlabel('Intervals')\n",
    "\n",
    "        plt.legend()\n",
    "\n",
    "        plt.savefig('SLL_Exchange_Rates.png', dpi=300)\n",
    "\n",
    "\n",
    "obj = Exchange_rates()"
   ]
  },
  {
   "cell_type": "code",
   "execution_count": null,
   "id": "0bea530f",
   "metadata": {},
   "outputs": [],
   "source": []
  },
  {
   "cell_type": "markdown",
   "id": "3fe5096e",
   "metadata": {},
   "source": [
    "# Save HTML"
   ]
  },
  {
   "cell_type": "code",
   "execution_count": 321,
   "id": "332270d7",
   "metadata": {},
   "outputs": [],
   "source": [
    "obj.save_html(return_rates, std_deviations)\n",
    "# print(std_deviations)\n",
    "# print(return_rates)\n",
    "# print(len(return_rates))"
   ]
  },
  {
   "cell_type": "code",
   "execution_count": 20,
   "id": "a739928a",
   "metadata": {},
   "outputs": [],
   "source": [
    "# print(len(rates), len(intervals))\n",
    "# print(intervals)\n",
    "# obj.show_plot(intervals, rates)\n",
    "\n",
    "# obj.save_plot(intervals, rates)\n"
   ]
  },
  {
   "cell_type": "markdown",
   "id": "b65eff53",
   "metadata": {},
   "source": [
    "# Send First API Request"
   ]
  },
  {
   "cell_type": "code",
   "execution_count": 3,
   "id": "1f6a2f3e",
   "metadata": {},
   "outputs": [],
   "source": [
    "\n",
    "data1 = obj.fetch(\"2020-01-01\", \"2021-01-01\")\n",
    "# data1"
   ]
  },
  {
   "cell_type": "code",
   "execution_count": 5,
   "id": "e5b7433d",
   "metadata": {},
   "outputs": [],
   "source": [
    "dates_data1 = obj.get_dates(data1)\n",
    "# print(dates_data1)"
   ]
  },
  {
   "cell_type": "code",
   "execution_count": 6,
   "id": "c2f779de",
   "metadata": {},
   "outputs": [],
   "source": [
    "intervals1 = obj.get_intervals(dates_data1)\n",
    "rates1 = obj.get_rates(data1)\n",
    "\n",
    "# print(intervals1)\n",
    "# print(rates1)"
   ]
  },
  {
   "cell_type": "markdown",
   "id": "08d651d4",
   "metadata": {},
   "source": [
    "# Send Second API Request"
   ]
  },
  {
   "cell_type": "code",
   "execution_count": 8,
   "id": "3d0f34f3",
   "metadata": {},
   "outputs": [],
   "source": [
    "\n",
    "data2 = obj.fetch(\"2021-01-02\", \"2022-01-01\")\n",
    "# data2"
   ]
  },
  {
   "cell_type": "code",
   "execution_count": 9,
   "id": "9557bedf",
   "metadata": {},
   "outputs": [],
   "source": [
    "dates_data2 = obj.get_dates(data2)\n",
    "dates_data = dates_data1 + dates_data2\n",
    "intervals = obj.get_intervals(dates_data)\n",
    "# print(intervals)"
   ]
  },
  {
   "cell_type": "code",
   "execution_count": 10,
   "id": "9a56a9cd",
   "metadata": {},
   "outputs": [],
   "source": [
    "rates2 = obj.get_rates(data2)\n",
    "rates = rates1 + rates2"
   ]
  },
  {
   "cell_type": "markdown",
   "id": "baf34a41",
   "metadata": {},
   "source": [
    "# Stores data as json"
   ]
  },
  {
   "cell_type": "code",
   "execution_count": 18,
   "id": "17690cbd",
   "metadata": {},
   "outputs": [],
   "source": [
    "obj.store(intervals, rates)"
   ]
  },
  {
   "cell_type": "markdown",
   "id": "18fd260d",
   "metadata": {},
   "source": [
    "# Export Data to Excel"
   ]
  },
  {
   "cell_type": "code",
   "execution_count": 284,
   "id": "14232297",
   "metadata": {},
   "outputs": [],
   "source": [
    "obj.store(intervals, rates)"
   ]
  },
  {
   "cell_type": "markdown",
   "id": "48287305",
   "metadata": {},
   "source": [
    "# Import Data from Excel"
   ]
  },
  {
   "cell_type": "code",
   "execution_count": 21,
   "id": "4df5df67",
   "metadata": {},
   "outputs": [],
   "source": [
    "intervals, rates = obj.load_excel('data.xlsx')\n",
    "# print(intervals)\n",
    "# print(rates)\n",
    "\n",
    "\n",
    "\n"
   ]
  },
  {
   "cell_type": "markdown",
   "id": "cc0ea14c",
   "metadata": {},
   "source": [
    "# Find Return Rates"
   ]
  },
  {
   "cell_type": "code",
   "execution_count": 287,
   "id": "43a35b53",
   "metadata": {},
   "outputs": [
    {
     "name": "stdout",
     "output_type": "stream",
     "text": [
      "2.04\n"
     ]
    }
   ],
   "source": [
    "return_rate_45days = obj.find_return_rate(rates[-45:])\n",
    "return_rate_45days = round(return_rate_45days, 2)\n",
    "print(return_rate_45days)"
   ]
  },
  {
   "cell_type": "code",
   "execution_count": 288,
   "id": "a45d0ca0",
   "metadata": {},
   "outputs": [
    {
     "name": "stdout",
     "output_type": "stream",
     "text": [
      "5.95\n"
     ]
    }
   ],
   "source": [
    "return_rate_90days = obj.find_return_rate(rates[-90:])\n",
    "return_rate_90days = round(return_rate_90days, 2)\n",
    "print(return_rate_90days)"
   ]
  },
  {
   "cell_type": "code",
   "execution_count": 289,
   "id": "67beefdc",
   "metadata": {},
   "outputs": [
    {
     "name": "stdout",
     "output_type": "stream",
     "text": [
      "8.68\n"
     ]
    }
   ],
   "source": [
    "return_rate_180days = obj.find_return_rate(rates[-180:])\n",
    "return_rate_180days = round(return_rate_180days, 2)\n",
    "print(return_rate_180days)"
   ]
  },
  {
   "cell_type": "code",
   "execution_count": 290,
   "id": "4ba04601",
   "metadata": {},
   "outputs": [
    {
     "name": "stdout",
     "output_type": "stream",
     "text": [
      "10.12\n"
     ]
    }
   ],
   "source": [
    "return_rate_360days = obj.find_return_rate(rates[-360:])\n",
    "return_rate_360days = round(return_rate_360days, 2)\n",
    "print(return_rate_360days)"
   ]
  },
  {
   "cell_type": "code",
   "execution_count": 291,
   "id": "6105c98e",
   "metadata": {},
   "outputs": [
    {
     "name": "stdout",
     "output_type": "stream",
     "text": [
      "13.82\n"
     ]
    }
   ],
   "source": [
    "return_rate_720days = obj.find_return_rate(rates[-720:])\n",
    "return_rate_720days = round(return_rate_720days, 2)\n",
    "print(return_rate_720days)"
   ]
  },
  {
   "cell_type": "markdown",
   "id": "03f46910",
   "metadata": {},
   "source": [
    "# Find Standard Deviation"
   ]
  },
  {
   "cell_type": "code",
   "execution_count": 25,
   "id": "9579a22b",
   "metadata": {},
   "outputs": [
    {
     "name": "stdout",
     "output_type": "stream",
     "text": [
      "0.88\n"
     ]
    }
   ],
   "source": [
    "std_deviation_45days = obj.find_std_deviation(rates[-45:])\n",
    "std_deviation_45days = round(std_deviation_45days, 2)\n",
    "print(std_deviation_45days)"
   ]
  },
  {
   "cell_type": "code",
   "execution_count": 294,
   "id": "1ecb2223",
   "metadata": {},
   "outputs": [
    {
     "name": "stdout",
     "output_type": "stream",
     "text": [
      "2.2\n"
     ]
    }
   ],
   "source": [
    "std_deviation_90days = obj.find_std_deviation(rates[-90:])\n",
    "std_deviation_90days = round(std_deviation_90days, 2)\n",
    "print(std_deviation_90days)"
   ]
  },
  {
   "cell_type": "code",
   "execution_count": 295,
   "id": "2880644b",
   "metadata": {},
   "outputs": [
    {
     "name": "stdout",
     "output_type": "stream",
     "text": [
      "3.52\n"
     ]
    }
   ],
   "source": [
    "std_deviation_180days = obj.find_std_deviation(rates[-180:])\n",
    "std_deviation_180days = round(std_deviation_180days, 2)\n",
    "print(std_deviation_180days)"
   ]
  },
  {
   "cell_type": "code",
   "execution_count": 296,
   "id": "a428ea9f",
   "metadata": {},
   "outputs": [
    {
     "name": "stdout",
     "output_type": "stream",
     "text": [
      "3.28\n"
     ]
    }
   ],
   "source": [
    "std_deviation_360days = obj.find_std_deviation(rates[-360:])\n",
    "std_deviation_360days = round(std_deviation_360days, 2)\n",
    "print(std_deviation_360days)"
   ]
  },
  {
   "cell_type": "code",
   "execution_count": 297,
   "id": "ed0d2f52",
   "metadata": {},
   "outputs": [
    {
     "name": "stdout",
     "output_type": "stream",
     "text": [
      "4.01\n"
     ]
    }
   ],
   "source": [
    "std_deviation_720days = obj.find_std_deviation(rates[-720:])\n",
    "std_deviation_720days = round(std_deviation_720days, 2)\n",
    "print(std_deviation_720days)"
   ]
  },
  {
   "cell_type": "markdown",
   "id": "e7f09964",
   "metadata": {},
   "source": [
    "# Save Data Analysis as HTML"
   ]
  },
  {
   "cell_type": "code",
   "execution_count": 298,
   "id": "bf6ee56c",
   "metadata": {},
   "outputs": [],
   "source": [
    "return_rates = [return_rate_45days, return_rate_90days, return_rate_180days, return_rate_360days, return_rate_720days]\n",
    "std_deviations =  [std_deviation_45days, std_deviation_90days, std_deviation_180days, std_deviation_360days, std_deviation_720days]\n",
    "\n"
   ]
  },
  {
   "cell_type": "markdown",
   "id": "04060ae0",
   "metadata": {},
   "source": [
    "# Save Data Analysis as HTML"
   ]
  },
  {
   "cell_type": "code",
   "execution_count": 323,
   "id": "9cbfd05c",
   "metadata": {},
   "outputs": [],
   "source": [
    "obj.save_html(return_rates, std_deviations)"
   ]
  },
  {
   "cell_type": "markdown",
   "id": "698c3ceb",
   "metadata": {},
   "source": [
    "# Save plot"
   ]
  },
  {
   "cell_type": "code",
   "execution_count": 324,
   "id": "f3f5f3b5",
   "metadata": {},
   "outputs": [
    {
     "data": {
      "image/png": "[encoded data removed]",
      "text/plain": [
       "<Figure size 864x576 with 1 Axes>"
      ]
     },
     "metadata": {},
     "output_type": "display_data"
    }
   ],
   "source": [
    "obj.save_plot(intervals, rates)"
   ]
  },
  {
   "cell_type": "markdown",
   "id": "c60c45f6",
   "metadata": {},
   "source": [
    "# Show Plot"
   ]
  },
  {
   "cell_type": "code",
   "execution_count": 325,
   "id": "16697039",
   "metadata": {
    "scrolled": true
   },
   "outputs": [
    {
     "data": {
      "image/png": "[encoded data removed]",
      "text/plain": [
       "<Figure size 864x576 with 1 Axes>"
      ]
     },
     "metadata": {},
     "output_type": "display_data"
    }
   ],
   "source": [
    "obj.show_plot(intervals, rates)\n"
   ]
  },
  {
   "cell_type": "code",
   "execution_count": null,
   "id": "6d1f7d22",
   "metadata": {},
   "outputs": [],
   "source": [
    "m, b = obj.find_line_of_best_fit(intervals, rates)\n",
    "x, y = obj.find_points(intervals, m, b)\n",
    "obj.show_in_plot(intervals, rates)"
   ]
  }
 ],
 "metadata": {
  "kernelspec": {
   "display_name": "Python 3 (ipykernel)",
   "language": "python",
   "name": "python3"
  },
  "language_info": {
   "codemirror_mode": {
    "name": "ipython",
    "version": 3
   },
   "file_extension": ".py",
   "mimetype": "text/x-python",
   "name": "python",
   "nbconvert_exporter": "python",
   "pygments_lexer": "ipython3",
   "version": "3.9.12"
  }
 },
 "nbformat": 4,
 "nbformat_minor": 5
}
